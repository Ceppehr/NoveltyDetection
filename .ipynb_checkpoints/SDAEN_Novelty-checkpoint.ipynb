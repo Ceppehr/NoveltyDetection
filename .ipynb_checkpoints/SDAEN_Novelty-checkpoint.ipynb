{
 "cells": [
  {
   "cell_type": "markdown",
   "metadata": {},
   "source": [
    "An autoencoder network is an artificial neural network used for unsupervised learning of an efficient data representation (encoding), typically for the purpose of dimensionality reduction.\n",
    "\n",
    "### Vanilla Autoencoders\n",
    "An autoencoder in possibly the simplest architecture is referred to as a Vanilla autoencoder and consists of three layers, the input, the hidden, and the output layer. Basically,  given an input, Vanilla autoencoders are used to reconstruct the input at the output via a single hidden layer that has less nuerons than the input's dimension. This results in producing a bottleneck effect on the flow of information in the network, and therefore we can think of the hidden layer as a bottleneck layer, restricting the information that would be stored.\n",
    "\n",
    "### Denoising Autoencoders\n",
    "A denoising autoencoder learns from a corrupted (noisy) input; it feeds its encoder network the noisy input and then the reconstructed output from the decoder is compared with the original input. The idea is that this will help the network learn how to denoise an input. Thus learning its core features.\n",
    "\n",
    "### Stacked Denoising Autoencoders\n",
    "It is possible to have multiple layers in encoder and decoder segments of the network. Using deeper encoder and decoder networks can allow the autoencoder to represent complex features. The structure so obtained is called a *stacked autoencoder* (deep autoencoders); the features extracted by one encoder are passed on to the next encoder as input. The stacked  autoencoder can be trained as a whole network with an aim to minimise the reconstruction error.\n",
    "\n",
    "### Tensorflow Implementation\n",
    "For implementation, I use the [MNIST dataset](http://yann.lecun.com/exdb/mnist/) of handwritten digits.\n",
    "\n",
    "![](https://github.com/Ceppehr/NoveltyDetection/blob/master/Images/mnist.png?raw=true)\n",
    "\n",
    "\n",
    "\n",
    "The inputs to the autoencoder are the noisy digits so as the first step, let's apply some noise to corrupt our input **x**:\n",
    "\n",
    "![](https://github.com/Ceppehr/NoveltyDetection/blob/master/Images/DAEN.png?raw=true)\n",
    "\n",
    "![](https://github.com/Ceppehr/NoveltyDetection/blob/master/Images/weights.png?raw=true)\n",
    "\n"
   ]
  },
  {
   "cell_type": "code",
   "execution_count": null,
   "metadata": {
    "collapsed": true
   },
   "outputs": [],
   "source": []
  }
 ],
 "metadata": {
  "kernelspec": {
   "display_name": "Python 2",
   "language": "python",
   "name": "python2"
  },
  "language_info": {
   "codemirror_mode": {
    "name": "ipython",
    "version": 2
   },
   "file_extension": ".py",
   "mimetype": "text/x-python",
   "name": "python",
   "nbconvert_exporter": "python",
   "pygments_lexer": "ipython2",
   "version": "2.7.13"
  }
 },
 "nbformat": 4,
 "nbformat_minor": 2
}
